{
 "cells": [
  {
   "cell_type": "markdown",
   "metadata": {},
   "source": [
    "# Unconstrained Population Growth #\n",
    "This document demonstrates using python and Jupyter for performing and presenting system dynamics simulations.  This file has code to get the student started with the assignment.  They can then modify this notebook to complete the assignment."
   ]
  },
  {
   "cell_type": "markdown",
   "metadata": {},
   "source": [
    "## Initialization ##\n",
    "This section contains initialization code which gives this notebook the resources it needs to run."
   ]
  },
  {
   "cell_type": "code",
   "execution_count": 1,
   "metadata": {
    "collapsed": false
   },
   "outputs": [],
   "source": [
    "#This code performs the necessary steps to prepare to plot.\n",
    "from pylab import *     #Import plotting module matplotlib as well as other modules\n",
    "                        #into the global namespace.\n",
    "\n",
    "#Set the default plot to be inline rather than a new window.\n",
    "%matplotlib inline\n",
    "\n",
    "import inspect  #This allows us to print the source code in this notebook.\n",
    "from UnconstrainedGrowth import *  #Import the custom functions from this project.\n",
    "\n",
    "goldenratio=1/2*(1+sqrt(5))        #The next few lines are used for the size of plots\n",
    "fsx=7                              #Width (in inches) for the figures.\n",
    "fsy=fsx/goldenratio                #Height (in inches) for the figures."
   ]
  },
  {
   "cell_type": "markdown",
   "metadata": {},
   "source": [
    "## Unconstrained Growth Problem\n",
    "Here you should state the problem you are solving.\n",
    "## Unconstrained Growth Function\n",
    "In the file UnconstrainedGrowth.py Write a python [function](https://docs.python.org/tutorial/controlflow.html#defining-functions) \n",
    "that uses finite difference methods to simulate the population growth.  Like the \n",
    "example in your text, use `P_o=100, r=0.1` and a time step size of `0.005`, $\\Delta t$=0.005.  You may want to write out pseudo code before you write in python.  Your function should:\n",
    "-  Take at least the time step size, dt, as a passed parameter,\n",
    "-  Use a loop structure to create a [list](https://docs.python.org/tutorial/introduction.html#lists) of time and population.  *Note: I used a [while loop](https://www.tutorialspoint.com/python/python_while_loop.htm).  Also, I found it easier to plot the values if I stored the time values in one list and the population values in another list.*\n",
    "-  Return the lists from the function.  Note: I called my function grow.  The last line of my function is\n",
    "\n",
    "    `return t_array, population_array`.\n",
    "\n",
    "    I then call the function and get the results with\n",
    "\n",
    "    `t, p = grow(0.005)`\n",
    "My grow function returns two lists, `t_array` and `population_array`.  Those two lists are then assigned to `t` and `p` when the function returns.\n",
    "\n",
    "The line below will print your code here for documentation purposes.  In the Initilization section, the code\n",
    "\n",
    "    from UnconstrainedGrowth import *\n",
    "\n",
    "makes your function avaliable in this file."
   ]
  },
  {
   "cell_type": "code",
   "execution_count": 2,
   "metadata": {
    "collapsed": false
   },
   "outputs": [
    {
     "name": "stdout",
     "output_type": "stream",
     "text": [
      "def grow(dt):\n",
      "    \"\"\"Calculates the population vs time for given parameters.\"\"\"\n",
      "\n",
      "    return\n",
      "\n"
     ]
    }
   ],
   "source": [
    "print(inspect.getsource(grow))"
   ]
  },
  {
   "cell_type": "markdown",
   "metadata": {},
   "source": [
    "## Plot Population vs. Time\n",
    "<p>Plot the results of your function.  Include appropriate axis labels and titles.  The references below should help you.\n",
    "<ul>\n",
    "<li><a href = \"http://ipython.readthedocs.io/en/stable/interactive/plotting.html\">Plotting</a> from the Jupyter <a href = \"http://ipython.readthedocs.io/en/stable/interactive/index.html\">Using IPython for interactive work</a> documentation.\n",
    "<li><a href = \"http://matplotlib.org/api/figure_api.html#matplotlib.figure.Figure\">figure</a> -> creates a figure instance.  The figsize specifies the figure size in inches.</li>\n",
    "<li><a href = \"http://matplotlib.org/api/pyplot_api.html#matplotlib.pyplot.plot\">plot</a> -> creates a data series in the figure.  The options specify the style of the plot as explained in the <a href = \"http://matplotlib.org/api/pyplot_api.html#matplotlib.pyplot.plot\">plot documentation<a>.</li>\n",
    "<li><a href=http://matplotlib.org/api/lines_api.html#matplotlib.lines.Line2D.set_markerfacecolor>MFC</a> -> sets the marker face color.  The four element tuple is the (red, green, blue, alpha).  The alpha value sets the transparency, with 0 being transparent.  The matplotlib documentation has a good introduction to <a href=http://matplotlib.org/users/pyplot_tutorial.html#controlling-line-properties>controlling line properties</a>.</li>\n",
    "<li>mec -> sets the marker edge color.  See the <a href = \"http://matplotlib.org/api/pyplot_api.html#matplotlib.pyplot.plot\">plot documentation</a> for a list of the supported color abbreviations.</li></ul>"
   ]
  },
  {
   "cell_type": "code",
   "execution_count": null,
   "metadata": {
    "collapsed": false
   },
   "outputs": [],
   "source": []
  },
  {
   "cell_type": "markdown",
   "metadata": {},
   "source": [
    "## Set Plot Options\n",
    "Replot your previous graph and have the population data displayed with red hexagon markers with a transparent face.  You might want to check the [matplotlib documentation for plot](http://matplotlib.org/api/pyplot_api.html#matplotlib.pyplot.plot).  Also, setting the color alpha value to zero will make the marker transparent as described in [this stackoverflow discussion](http://stackoverflow.com/questions/15928539/matplotlib-how-to-make-the-marker-face-color-transparent-without-making-the-li).\n"
   ]
  },
  {
   "cell_type": "code",
   "execution_count": null,
   "metadata": {
    "collapsed": true
   },
   "outputs": [],
   "source": []
  },
  {
   "cell_type": "markdown",
   "metadata": {},
   "source": [
    "## Different $\\Delta t$ Values\n",
    "On a single graph, have plots for the population vs time for different time step sizes, $\\Delta t$.  Create at least four different plots with $\\Delta t$ values ranging from $0.005$ to $1.0$"
   ]
  },
  {
   "cell_type": "markdown",
   "metadata": {},
   "source": [
    "### Generate Lists for Each $\\Delta t$ Value"
   ]
  },
  {
   "cell_type": "code",
   "execution_count": 5,
   "metadata": {
    "collapsed": true
   },
   "outputs": [],
   "source": []
  },
  {
   "cell_type": "markdown",
   "metadata": {},
   "source": [
    "### Create Plot with Different $\\Delta t$ Curves\n",
    "To add multiple curves to a plot, simply include multiple plot commands between calling `figure()` and `show()`."
   ]
  },
  {
   "cell_type": "code",
   "execution_count": null,
   "metadata": {
    "collapsed": false
   },
   "outputs": [],
   "source": []
  },
  {
   "cell_type": "markdown",
   "metadata": {},
   "source": [
    "## Create Simulation Error Plot\n",
    "Create a plot of the simulation error vs time for the simulations you created in the previous step.  Simulation error is the difference between the exact value and the simulation value.  For this, you may want to look at the [range function](https://docs.python.org/3.5/tutorial/controlflow.html#the-range-function) in python.  The code below defines a function for the exact result, and then uses that function to populate the p_exact list with the exact values.  Finally, the first five values of the p_exact list are displayed for reference.  These are for times $t = 0.0, 1.0, 2.0, 3.0$."
   ]
  },
  {
   "cell_type": "code",
   "execution_count": 6,
   "metadata": {
    "collapsed": false
   },
   "outputs": [
    {
     "data": {
      "text/plain": [
       "[100.0, 110.51709180756477, 122.14027581601698, 134.98588075760031]"
      ]
     },
     "execution_count": 6,
     "metadata": {},
     "output_type": "execute_result"
    }
   ],
   "source": [
    "def p(t):\n",
    "    return 100* exp(0.1 * t)\n",
    "t_exact = [t for t in range(101)]\n",
    "p_exact = [p(t) for t in range(101)]\n",
    "p_exact[0:4]"
   ]
  },
  {
   "cell_type": "code",
   "execution_count": null,
   "metadata": {
    "collapsed": false
   },
   "outputs": [],
   "source": []
  },
  {
   "cell_type": "markdown",
   "metadata": {},
   "source": [
    "The code segment\n",
    "\n",
    "    [p(t) for t in range(101)]\n",
    "\n",
    "is called a [List Comprehension](https://docs.python.org/3/tutorial/datastructures.html#list-comprehensions).  It gives the same thing as the pseudo code below.\n",
    "\n",
    "    for t = 0 to 100\n",
    "        p_exact[t] = p(t)\n",
    "    next t\n",
    "\n",
    "You may want to use a similar structure for generating your list of simulation error.\n"
   ]
  },
  {
   "cell_type": "code",
   "execution_count": 8,
   "metadata": {
    "collapsed": true
   },
   "outputs": [],
   "source": [
    "#Create lists for the simulation error vs time."
   ]
  },
  {
   "cell_type": "code",
   "execution_count": 7,
   "metadata": {
    "collapsed": false
   },
   "outputs": [],
   "source": [
    "#plot your results.  The results should look something like the figure below."
   ]
  },
  {
   "cell_type": "markdown",
   "metadata": {},
   "source": [
    "### Correct Results for Simulation Error Plot\n",
    "![Correct Results for Error vs. Time](ErrorVsTime.png)"
   ]
  }
 ],
 "metadata": {
  "anaconda-cloud": {},
  "kernelspec": {
   "display_name": "Python [conda root]",
   "language": "python",
   "name": "conda-root-py"
  },
  "language_info": {
   "codemirror_mode": {
    "name": "ipython",
    "version": 3
   },
   "file_extension": ".py",
   "mimetype": "text/x-python",
   "name": "python",
   "nbconvert_exporter": "python",
   "pygments_lexer": "ipython3",
   "version": "3.5.2"
  }
 },
 "nbformat": 4,
 "nbformat_minor": 0
}
